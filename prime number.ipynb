{
 "cells": [
  {
   "cell_type": "code",
   "execution_count": null,
   "metadata": {},
   "outputs": [],
   "source": [
    "\n",
    "def is_prime(num):\n",
    "    count = 0\n",
    "    for i in range(1, num + 1):\n",
    "        if num % i == 0:\n",
    "            count += 1\n",
    "    return count\n",
    "\n",
    "\n",
    "n1 = int(input(\"Enter first range: \"))\n",
    "n2 = int(input(\"Enter last range: \"))\n",
    "\n",
    "for i in range(n1, n2 + 1):\n",
    "        count = is_prime(i)\n",
    "        if count == 2:\n",
    "            print(i, end='\\t')\n"
   ]
  }
 ],
 "metadata": {
  "language_info": {
   "name": "python"
  }
 },
 "nbformat": 4,
 "nbformat_minor": 2
}
